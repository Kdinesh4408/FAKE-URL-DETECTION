{
 "cells": [
  {
   "cell_type": "code",
   "execution_count": 1,
   "id": "c08aec95-0bea-42cf-93bd-f0fab1068d8b",
   "metadata": {},
   "outputs": [],
   "source": [
    "import numpy as np\n",
    "import pandas as pd\n",
    "import seaborn as sns\n",
    "import matplotlib.pyplot as plt \n",
    "\n",
    "from sklearn.preprocessing import LabelEncoder\n",
    "from sklearn.model_selection import train_test_split\n",
    "from sklearn.feature_extraction.text import CountVectorizer\n",
    "from sklearn.feature_extraction.text import TfidfTransformer\n",
    "from sklearn.linear_model import LogisticRegression\n",
    "from sklearn.metrics import accuracy_score\n",
    "from sklearn.feature_extraction.text import TfidfVectorizer\n",
    "from sklearn.ensemble import StackingClassifier\n",
    "from sklearn.ensemble import RandomForestClassifier\n",
    "from sklearn.feature_extraction.text import CountVectorizer\n",
    "\n",
    "\n",
    "import pickle\n",
    "import warnings \n",
    "warnings.simplefilter('ignore')"
   ]
  },
  {
   "cell_type": "code",
   "execution_count": 2,
   "id": "fdb1a9ec-aab8-4b09-af10-4f0a460cae8b",
   "metadata": {},
   "outputs": [
    {
     "data": {
      "text/html": [
       "<div>\n",
       "<style scoped>\n",
       "    .dataframe tbody tr th:only-of-type {\n",
       "        vertical-align: middle;\n",
       "    }\n",
       "\n",
       "    .dataframe tbody tr th {\n",
       "        vertical-align: top;\n",
       "    }\n",
       "\n",
       "    .dataframe thead th {\n",
       "        text-align: right;\n",
       "    }\n",
       "</style>\n",
       "<table border=\"1\" class=\"dataframe\">\n",
       "  <thead>\n",
       "    <tr style=\"text-align: right;\">\n",
       "      <th></th>\n",
       "      <th>URLs</th>\n",
       "      <th>Labels</th>\n",
       "    </tr>\n",
       "  </thead>\n",
       "  <tbody>\n",
       "    <tr>\n",
       "      <th>0</th>\n",
       "      <td>https://cdn.substack.com/image/fetch/c_limit,f...</td>\n",
       "      <td>True</td>\n",
       "    </tr>\n",
       "    <tr>\n",
       "      <th>1</th>\n",
       "      <td>https://numlock.substack.com/subscribe</td>\n",
       "      <td>True</td>\n",
       "    </tr>\n",
       "    <tr>\n",
       "      <th>2</th>\n",
       "      <td>https://docs.google.com/forms/d/e/1FAIpQLSfDLO...</td>\n",
       "      <td>True</td>\n",
       "    </tr>\n",
       "    <tr>\n",
       "      <th>3</th>\n",
       "      <td>https://bookclub.substack.com/</td>\n",
       "      <td>True</td>\n",
       "    </tr>\n",
       "    <tr>\n",
       "      <th>4</th>\n",
       "      <td>https://awards.substack.com/</td>\n",
       "      <td>True</td>\n",
       "    </tr>\n",
       "    <tr>\n",
       "      <th>...</th>\n",
       "      <td>...</td>\n",
       "      <td>...</td>\n",
       "    </tr>\n",
       "    <tr>\n",
       "      <th>1057</th>\n",
       "      <td>https://bry.qmsiuas.net/</td>\n",
       "      <td>False</td>\n",
       "    </tr>\n",
       "    <tr>\n",
       "      <th>1058</th>\n",
       "      <td>https://guidelinesenforcementengageamplify.ver...</td>\n",
       "      <td>False</td>\n",
       "    </tr>\n",
       "    <tr>\n",
       "      <th>1059</th>\n",
       "      <td>https://guidelinesenforcementengageamplify.ver...</td>\n",
       "      <td>False</td>\n",
       "    </tr>\n",
       "    <tr>\n",
       "      <th>1060</th>\n",
       "      <td>https://opg.qmsiuas.net/</td>\n",
       "      <td>False</td>\n",
       "    </tr>\n",
       "    <tr>\n",
       "      <th>1061</th>\n",
       "      <td>https://postinfractionsmartcampaigns.vercel.ap...</td>\n",
       "      <td>False</td>\n",
       "    </tr>\n",
       "  </tbody>\n",
       "</table>\n",
       "<p>1062 rows × 2 columns</p>\n",
       "</div>"
      ],
      "text/plain": [
       "                                                   URLs  Labels\n",
       "0     https://cdn.substack.com/image/fetch/c_limit,f...    True\n",
       "1                https://numlock.substack.com/subscribe    True\n",
       "2     https://docs.google.com/forms/d/e/1FAIpQLSfDLO...    True\n",
       "3                        https://bookclub.substack.com/    True\n",
       "4                          https://awards.substack.com/    True\n",
       "...                                                 ...     ...\n",
       "1057                           https://bry.qmsiuas.net/   False\n",
       "1058  https://guidelinesenforcementengageamplify.ver...   False\n",
       "1059  https://guidelinesenforcementengageamplify.ver...   False\n",
       "1060                           https://opg.qmsiuas.net/   False\n",
       "1061  https://postinfractionsmartcampaigns.vercel.ap...   False\n",
       "\n",
       "[1062 rows x 2 columns]"
      ]
     },
     "execution_count": 2,
     "metadata": {},
     "output_type": "execute_result"
    }
   ],
   "source": [
    "df = pd.read_csv(r\"E:\\Downloads\\new data (1).csv\")\n",
    "df"
   ]
  },
  {
   "cell_type": "code",
   "execution_count": 3,
   "id": "91a757cf-668b-4569-8ce1-2039a9d30548",
   "metadata": {},
   "outputs": [
    {
     "data": {
      "text/plain": [
       "Index(['URLs', 'Labels'], dtype='object')"
      ]
     },
     "execution_count": 3,
     "metadata": {},
     "output_type": "execute_result"
    }
   ],
   "source": [
    "df.columns"
   ]
  },
  {
   "cell_type": "code",
   "execution_count": 4,
   "id": "d016172b-9273-4ab8-a959-eb0b24014dd0",
   "metadata": {},
   "outputs": [
    {
     "name": "stdout",
     "output_type": "stream",
     "text": [
      "<class 'pandas.core.frame.DataFrame'>\n",
      "RangeIndex: 1062 entries, 0 to 1061\n",
      "Data columns (total 2 columns):\n",
      " #   Column  Non-Null Count  Dtype \n",
      "---  ------  --------------  ----- \n",
      " 0   URLs    1062 non-null   object\n",
      " 1   Labels  1062 non-null   bool  \n",
      "dtypes: bool(1), object(1)\n",
      "memory usage: 9.5+ KB\n"
     ]
    }
   ],
   "source": [
    "df.info()"
   ]
  },
  {
   "cell_type": "code",
   "execution_count": 5,
   "id": "da56151a-598c-470e-a9f0-b86ed842f187",
   "metadata": {},
   "outputs": [
    {
     "data": {
      "text/plain": [
       "2124"
      ]
     },
     "execution_count": 5,
     "metadata": {},
     "output_type": "execute_result"
    }
   ],
   "source": [
    "df.size"
   ]
  },
  {
   "cell_type": "code",
   "execution_count": 6,
   "id": "7fe9596a-7f14-47c3-ba77-b7a40b9b8f89",
   "metadata": {},
   "outputs": [
    {
     "data": {
      "text/plain": [
       "(1062, 2)"
      ]
     },
     "execution_count": 6,
     "metadata": {},
     "output_type": "execute_result"
    }
   ],
   "source": [
    "df.shape"
   ]
  },
  {
   "cell_type": "code",
   "execution_count": 7,
   "id": "18293fb6-4263-4a04-88db-6f104d110fa3",
   "metadata": {},
   "outputs": [
    {
     "data": {
      "image/png": "[encoded data removed]",
      "text/plain": [
       "<Figure size 1000x600 with 1 Axes>"
      ]
     },
     "metadata": {},
     "output_type": "display_data"
    }
   ],
   "source": [
    "fig,ax = plt.subplots(figsize=(10,6))\n",
    "sns.countplot(x='Labels',data  = df,ax = ax, color='orange')\n",
    "for i in ax.containers:\n",
    "    ax.bar_label(i)\n"
   ]
  },
  {
   "cell_type": "code",
   "execution_count": 8,
   "id": "12b5821d-a84a-454f-bebc-8006337b56ca",
   "metadata": {},
   "outputs": [],
   "source": [
    "x = df['URLs']\n",
    "y = df['Labels']"
   ]
  },
  {
   "cell_type": "code",
   "execution_count": 9,
   "id": "35579f3d-4421-46e5-b5a6-81475df8a3d2",
   "metadata": {},
   "outputs": [
    {
     "data": {
      "text/plain": [
       "0       1\n",
       "1       1\n",
       "2       1\n",
       "3       1\n",
       "4       1\n",
       "       ..\n",
       "1057    0\n",
       "1058    0\n",
       "1059    0\n",
       "1060    0\n",
       "1061    0\n",
       "Name: Label, Length: 1062, dtype: int64"
      ]
     },
     "execution_count": 9,
     "metadata": {},
     "output_type": "execute_result"
    }
   ],
   "source": [
    "encoder = LabelEncoder()\n",
    "df['Label']=encoder.fit_transform(df['Labels'])\n",
    "df['Label']"
   ]
  },
  {
   "cell_type": "code",
   "execution_count": 10,
   "id": "686f61cb-267a-4000-ba3f-74bf66ce2d37",
   "metadata": {},
   "outputs": [
    {
     "data": {
      "text/plain": [
       "0       https://cdn.substack.com/image/fetch/c_limit,f...\n",
       "1                  https://numlock.substack.com/subscribe\n",
       "2       https://docs.google.com/forms/d/e/1FAIpQLSfDLO...\n",
       "3                          https://bookclub.substack.com/\n",
       "4                            https://awards.substack.com/\n",
       "                              ...                        \n",
       "1057                             https://bry.qmsiuas.net/\n",
       "1058    https://guidelinesenforcementengageamplify.ver...\n",
       "1059    https://guidelinesenforcementengageamplify.ver...\n",
       "1060                             https://opg.qmsiuas.net/\n",
       "1061    https://postinfractionsmartcampaigns.vercel.ap...\n",
       "Name: URLs, Length: 1062, dtype: object"
      ]
     },
     "execution_count": 10,
     "metadata": {},
     "output_type": "execute_result"
    }
   ],
   "source": [
    "x"
   ]
  },
  {
   "cell_type": "code",
   "execution_count": 11,
   "id": "de7615be-06f6-4725-b01d-0ca6a26d4854",
   "metadata": {},
   "outputs": [
    {
     "data": {
      "text/plain": [
       "0        True\n",
       "1        True\n",
       "2        True\n",
       "3        True\n",
       "4        True\n",
       "        ...  \n",
       "1057    False\n",
       "1058    False\n",
       "1059    False\n",
       "1060    False\n",
       "1061    False\n",
       "Name: Labels, Length: 1062, dtype: bool"
      ]
     },
     "execution_count": 11,
     "metadata": {},
     "output_type": "execute_result"
    }
   ],
   "source": [
    "y"
   ]
  },
  {
   "cell_type": "code",
   "execution_count": 12,
   "id": "cad4f5cb-58b7-4064-8e40-ad42d3d7ac9c",
   "metadata": {},
   "outputs": [],
   "source": [
    "x_train,x_test,y_train,y_test=train_test_split(x,y,test_size=0.1,random_state=42)"
   ]
  },
  {
   "cell_type": "code",
   "execution_count": 13,
   "id": "bc0b85ee-60d5-4eea-a853-76bfd298d0cb",
   "metadata": {},
   "outputs": [],
   "source": [
    "cv = CountVectorizer()"
   ]
  },
  {
   "cell_type": "code",
   "execution_count": 14,
   "id": "ed1b6a01-8d60-4447-bb45-4fd7583181e6",
   "metadata": {},
   "outputs": [],
   "source": [
    " X_train_counts = cv.fit_transform(x_train)\n",
    " tfidf_transformer = TfidfTransformer()\n",
    " X_train_tfidf = tfidf_transformer.fit_transform(X_train_counts)"
   ]
  },
  {
   "cell_type": "code",
   "execution_count": 15,
   "id": "8a1c2a7c-e066-47a1-a698-5718cab4ba1b",
   "metadata": {},
   "outputs": [],
   "source": [
    "x_train_cv = cv.fit_transform(x_train)\n",
    "x_test_cv = cv.transform(x_test)"
   ]
  },
  {
   "cell_type": "code",
   "execution_count": 16,
   "id": "4cab72c7-3b66-40ab-a6bd-eb7d32a66250",
   "metadata": {},
   "outputs": [],
   "source": [
    "lr = LogisticRegression()"
   ]
  },
  {
   "cell_type": "code",
   "execution_count": 17,
   "id": "3407543d-9684-4b59-aab5-04c8ce62ee1f",
   "metadata": {},
   "outputs": [],
   "source": [
    "model=lr.fit(x_train_cv,y_train)\n",
    "prediction_train = lr.predict(x_train_cv)"
   ]
  },
  {
   "cell_type": "code",
   "execution_count": 18,
   "id": "b0364d8f-7b8c-4176-a0da-8c49da31bf28",
   "metadata": {},
   "outputs": [
    {
     "name": "stdout",
     "output_type": "stream",
     "text": [
      "98.53403141361257\n"
     ]
    }
   ],
   "source": [
    "print(accuracy_score(y_train,prediction_train)*100)"
   ]
  },
  {
   "cell_type": "code",
   "execution_count": 19,
   "id": "b081f951-8e09-47b4-b7bb-fb3ea22b8959",
   "metadata": {},
   "outputs": [],
   "source": [
    "prediction_test = lr.predict(x_test_cv)"
   ]
  },
  {
   "cell_type": "code",
   "execution_count": 20,
   "id": "10cc458e-47c0-4e7d-bdeb-d01990ad10b2",
   "metadata": {},
   "outputs": [
    {
     "name": "stdout",
     "output_type": "stream",
     "text": [
      "96.26168224299066\n"
     ]
    }
   ],
   "source": [
    "print(accuracy_score(y_test,prediction_test)*100)"
   ]
  },
  {
   "cell_type": "code",
   "execution_count": 21,
   "id": "61072544-4dbb-491d-97e5-d79a5ec82719",
   "metadata": {},
   "outputs": [
    {
     "name": "stdout",
     "output_type": "stream",
     "text": [
      "TRUE\n"
     ]
    }
   ],
   "source": [
    "input_url = [\"https://www.youtube.com/\"]\n",
    "\n",
    "# Convert text into feature vectors\n",
    "input_url_features = cv.transform(input_url)  # Use 'cv' (CountVectorizer)\n",
    "\n",
    "\n",
    "# Predict using the trained model\n",
    "prediction = model.predict(input_url_features)[0]  \n",
    "\n",
    "# Output result\n",
    "if prediction == 1:\n",
    "    print(\"TRUE\")\n",
    "else:\n",
    "    print(\"FALSE\")"
   ]
  },
  {
   "cell_type": "code",
   "execution_count": 22,
   "id": "3bcc5a2d-c0f3-4643-a53a-2773b4d65a2a",
   "metadata": {},
   "outputs": [],
   "source": [
    "# import joblib\n",
    "\n",
    "# # Save trained model\n",
    "# joblib.dump(lr, \"URL1.pickle\")\n",
    "\n",
    "# # Save CountVectorizer\n",
    "# joblib.dump(cv, \"count_vectorizer_1.pickle\")\n",
    "\n",
    "# print(\"Model & Vectorizer saved successfully!\")\n"
   ]
  },
  {
   "cell_type": "code",
   "execution_count": 23,
   "id": "1d059485-ae86-4bc3-9fde-2fa26641f44d",
   "metadata": {},
   "outputs": [
    {
     "name": "stdout",
     "output_type": "stream",
     "text": [
      "Model & Vectorizer saved successfully!\n"
     ]
    }
   ],
   "source": [
    "import joblib\n",
    "\n",
    "# Save trained model\n",
    "joblib.dump(lr, \"URL3.pickle\")\n",
    "\n",
    "# Save CountVectorizer\n",
    "joblib.dump(cv, \"count_vectorizer_2.pickle\")\n",
    "\n",
    "print(\"Model & Vectorizer saved successfully!\")\n"
   ]
  },
  {
   "cell_type": "code",
   "execution_count": null,
   "id": "054c5e94-efd6-4c76-b4aa-36fa0476c207",
   "metadata": {},
   "outputs": [],
   "source": [
    "    "
   ]
  }
 ],
 "metadata": {
  "kernelspec": {
   "display_name": "Python 3 (ipykernel)",
   "language": "python",
   "name": "python3"
  },
  "language_info": {
   "codemirror_mode": {
    "name": "ipython",
    "version": 3
   },
   "file_extension": ".py",
   "mimetype": "text/x-python",
   "name": "python",
   "nbconvert_exporter": "python",
   "pygments_lexer": "ipython3",
   "version": "3.12.7"
  }
 },
 "nbformat": 4,
 "nbformat_minor": 5
}
